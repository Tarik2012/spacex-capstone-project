{
 "cells": [
  {
   "cell_type": "code",
   "execution_count": 5,
   "id": "745137d7",
   "metadata": {},
   "outputs": [
    {
     "name": "stdout",
     "output_type": "stream",
     "text": [
      "Index(['static_fire_date_utc', 'static_fire_date_unix', 'net', 'window',\n",
      "       'rocket', 'success', 'failures', 'details', 'crew', 'ships', 'capsules',\n",
      "       'payloads', 'launchpad', 'flight_number', 'name', 'date_utc',\n",
      "       'date_unix', 'date_local', 'date_precision', 'upcoming', 'cores',\n",
      "       'auto_update', 'tbd', 'launch_library_id', 'id', 'fairings.reused',\n",
      "       'fairings.recovery_attempt', 'fairings.recovered', 'fairings.ships',\n",
      "       'links.patch.small', 'links.patch.large', 'links.reddit.campaign',\n",
      "       'links.reddit.launch', 'links.reddit.media', 'links.reddit.recovery',\n",
      "       'links.flickr.small', 'links.flickr.original', 'links.presskit',\n",
      "       'links.webcast', 'links.youtube_id', 'links.article', 'links.wikipedia',\n",
      "       'fairings'],\n",
      "      dtype='object')\n",
      "2006-03-17T00:00:00.000Z\n"
     ]
    }
   ],
   "source": [
    "import requests\n",
    "import pandas as pd\n",
    "\n",
    "# URL de la API de SpaceX\n",
    "url = \"https://api.spacexdata.com/v4/launches\"\n",
    "\n",
    "# Hacemos la solicitud\n",
    "response = requests.get(url)\n",
    "data = response.json()\n",
    "\n",
    "# Normalizamos el JSON a un DataFrame\n",
    "df = pd.json_normalize(data)\n",
    "\n",
    "# Vemos las primeras columnas para localizar 'static_fire_date_utc'\n",
    "print(df.columns)\n",
    "\n",
    "# Revisamos el valor de la primera fila\n",
    "print(df['static_fire_date_utc'].iloc[0])\n"
   ]
  },
  {
   "cell_type": "code",
   "execution_count": 12,
   "id": "fbf8d922",
   "metadata": {},
   "outputs": [
    {
     "name": "stdout",
     "output_type": "stream",
     "text": [
      "195\n",
      "54\n"
     ]
    }
   ],
   "source": [
    "import requests\n",
    "import pandas as pd\n",
    "\n",
    "# Cargar datos de lanzamientos\n",
    "url_launches = \"https://api.spacexdata.com/v4/launches\"\n",
    "launches_data = requests.get(url_launches).json()\n",
    "df = pd.json_normalize(launches_data)\n",
    "\n",
    "# Cargar datos de cohetes\n",
    "url_rockets = \"https://api.spacexdata.com/v4/rockets\"\n",
    "rockets_data = requests.get(url_rockets).json()\n",
    "rockets_df = pd.json_normalize(rockets_data)\n",
    "\n",
    "# ---------------------------\n",
    "# Pregunta 2\n",
    "# ---------------------------\n",
    "# Filtrar Falcon 9 usando IDs de rockets\n",
    "falcon9_ids = rockets_df[rockets_df['name'] == 'Falcon 9']['id']\n",
    "falcon9_df = df[df['rocket'].isin(falcon9_ids)]\n",
    "print(len(falcon9_df))  # Respuesta Pregunta 2\n",
    "\n",
    "# ---------------------------\n",
    "# Pregunta 3\n",
    "# ---------------------------\n",
    "# Crear columna landingPad y contar valores nulos\n",
    "df['landingPad'] = df['cores'].apply(lambda x: x[0]['landpad'] if x else None)\n",
    "print(df['landingPad'].isnull().sum())  # Respuesta Pregunta 3\n"
   ]
  },
  {
   "cell_type": "code",
   "execution_count": 8,
   "id": "0e3ed002",
   "metadata": {},
   "outputs": [
    {
     "name": "stdout",
     "output_type": "stream",
     "text": [
      "47\n"
     ]
    }
   ],
   "source": [
    "# Contar valores faltantes en landingPad\n",
    "missing_landingpad = falcon9_df['cores'].apply(lambda x: x[0]['landpad'] if x else None).isna().sum()\n",
    "print(missing_landingpad)\n"
   ]
  },
  {
   "cell_type": "code",
   "execution_count": 9,
   "id": "b9fef36f",
   "metadata": {},
   "outputs": [
    {
     "name": "stdout",
     "output_type": "stream",
     "text": [
      "<title>List of Falcon 9 and Falcon Heavy launches - Wikipedia</title>\n"
     ]
    }
   ],
   "source": [
    "import requests\n",
    "from bs4 import BeautifulSoup\n",
    "\n",
    "wiki_url = \"https://en.wikipedia.org/wiki/List_of_Falcon_9_and_Falcon_Heavy_launches\"\n",
    "wiki_response = requests.get(wiki_url)\n",
    "soup = BeautifulSoup(wiki_response.text, \"html.parser\")\n",
    "\n",
    "print(soup.title)\n"
   ]
  }
 ],
 "metadata": {
  "kernelspec": {
   "display_name": "env",
   "language": "python",
   "name": "python3"
  },
  "language_info": {
   "codemirror_mode": {
    "name": "ipython",
    "version": 3
   },
   "file_extension": ".py",
   "mimetype": "text/x-python",
   "name": "python",
   "nbconvert_exporter": "python",
   "pygments_lexer": "ipython3",
   "version": "3.13.3"
  }
 },
 "nbformat": 4,
 "nbformat_minor": 5
}
