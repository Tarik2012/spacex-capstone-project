{
 "cells": [
  {
   "cell_type": "code",
   "execution_count": 21,
   "id": "8422bb60",
   "metadata": {},
   "outputs": [],
   "source": [
    "import pandas as pd\n",
    "from sklearn.preprocessing import StandardScaler, OneHotEncoder\n",
    "from sklearn.compose import ColumnTransformer\n",
    "from sklearn.pipeline import Pipeline\n",
    "from sklearn.linear_model import LogisticRegression\n",
    "from sklearn.model_selection import train_test_split\n"
   ]
  },
  {
   "cell_type": "code",
   "execution_count": 22,
   "id": "6d9e0080",
   "metadata": {},
   "outputs": [
    {
     "name": "stdout",
     "output_type": "stream",
     "text": [
      "Columnas del dataset:\n",
      " Index(['flight', 'payload', 'orbit', 'site', 'gridfins', 'reused', 'legs',\n",
      "       'success'],\n",
      "      dtype='object') \n",
      "\n"
     ]
    },
    {
     "data": {
      "text/html": [
       "<div>\n",
       "<style scoped>\n",
       "    .dataframe tbody tr th:only-of-type {\n",
       "        vertical-align: middle;\n",
       "    }\n",
       "\n",
       "    .dataframe tbody tr th {\n",
       "        vertical-align: top;\n",
       "    }\n",
       "\n",
       "    .dataframe thead th {\n",
       "        text-align: right;\n",
       "    }\n",
       "</style>\n",
       "<table border=\"1\" class=\"dataframe\">\n",
       "  <thead>\n",
       "    <tr style=\"text-align: right;\">\n",
       "      <th></th>\n",
       "      <th>flight</th>\n",
       "      <th>payload</th>\n",
       "      <th>orbit</th>\n",
       "      <th>site</th>\n",
       "      <th>gridfins</th>\n",
       "      <th>reused</th>\n",
       "      <th>legs</th>\n",
       "      <th>success</th>\n",
       "    </tr>\n",
       "  </thead>\n",
       "  <tbody>\n",
       "    <tr>\n",
       "      <th>0</th>\n",
       "      <td>6</td>\n",
       "      <td>6500.0</td>\n",
       "      <td>LEO</td>\n",
       "      <td>CCSFS SLC 40</td>\n",
       "      <td>False</td>\n",
       "      <td>False</td>\n",
       "      <td>False</td>\n",
       "      <td>0</td>\n",
       "    </tr>\n",
       "    <tr>\n",
       "      <th>1</th>\n",
       "      <td>7</td>\n",
       "      <td>6500.0</td>\n",
       "      <td>LEO</td>\n",
       "      <td>CCSFS SLC 40</td>\n",
       "      <td>False</td>\n",
       "      <td>False</td>\n",
       "      <td>False</td>\n",
       "      <td>0</td>\n",
       "    </tr>\n",
       "    <tr>\n",
       "      <th>2</th>\n",
       "      <td>8</td>\n",
       "      <td>525.0</td>\n",
       "      <td>LEO</td>\n",
       "      <td>CCSFS SLC 40</td>\n",
       "      <td>False</td>\n",
       "      <td>False</td>\n",
       "      <td>False</td>\n",
       "      <td>0</td>\n",
       "    </tr>\n",
       "    <tr>\n",
       "      <th>3</th>\n",
       "      <td>9</td>\n",
       "      <td>400.0</td>\n",
       "      <td>ISS</td>\n",
       "      <td>CCSFS SLC 40</td>\n",
       "      <td>False</td>\n",
       "      <td>False</td>\n",
       "      <td>False</td>\n",
       "      <td>0</td>\n",
       "    </tr>\n",
       "    <tr>\n",
       "      <th>4</th>\n",
       "      <td>10</td>\n",
       "      <td>677.0</td>\n",
       "      <td>ISS</td>\n",
       "      <td>CCSFS SLC 40</td>\n",
       "      <td>False</td>\n",
       "      <td>False</td>\n",
       "      <td>False</td>\n",
       "      <td>0</td>\n",
       "    </tr>\n",
       "  </tbody>\n",
       "</table>\n",
       "</div>"
      ],
      "text/plain": [
       "   flight  payload orbit          site  gridfins  reused   legs  success\n",
       "0       6   6500.0   LEO  CCSFS SLC 40     False   False  False        0\n",
       "1       7   6500.0   LEO  CCSFS SLC 40     False   False  False        0\n",
       "2       8    525.0   LEO  CCSFS SLC 40     False   False  False        0\n",
       "3       9    400.0   ISS  CCSFS SLC 40     False   False  False        0\n",
       "4      10    677.0   ISS  CCSFS SLC 40     False   False  False        0"
      ]
     },
     "execution_count": 22,
     "metadata": {},
     "output_type": "execute_result"
    }
   ],
   "source": [
    "df = pd.read_csv(\"../data/processed/clean_dataset.csv\")\n",
    "\n",
    "print(\"Columnas del dataset:\\n\", df.columns, \"\\n\")\n",
    "df.head()\n"
   ]
  },
  {
   "cell_type": "code",
   "execution_count": 23,
   "id": "33d493c0",
   "metadata": {},
   "outputs": [
    {
     "name": "stdout",
     "output_type": "stream",
     "text": [
      "Valores únicos en orbit: ['LEO' 'ISS' 'PO' 'GTO' 'ES-L1' 'SSO' 'HEO' 'MEO' 'VLEO' 'SO' 'GEO'\n",
      " 'Unknown' 'TLI']\n",
      "Valores únicos en site: ['CCSFS SLC 40' 'VAFB SLC 4E' 'KSC LC 39A']\n"
     ]
    }
   ],
   "source": [
    "# payload → imputar con mediana\n",
    "df[\"payload\"] = df[\"payload\"].fillna(df[\"payload\"].median())\n",
    "\n",
    "# booleanas → imputar con False y convertir a bool\n",
    "df[[\"gridfins\", \"reused\", \"legs\"]] = (\n",
    "    df[[\"gridfins\", \"reused\", \"legs\"]].fillna(False).astype(bool)\n",
    ")\n",
    "\n",
    "# categóricas → imputar con \"Unknown\"\n",
    "df[\"orbit\"] = df[\"orbit\"].fillna(\"Unknown\").replace(\"\", \"Unknown\")\n",
    "df[\"site\"]  = df[\"site\"].fillna(\"Unknown\").replace(\"\", \"Unknown\")\n",
    "\n",
    "# Verificación\n",
    "print(\"Valores únicos en orbit:\", df[\"orbit\"].unique())\n",
    "print(\"Valores únicos en site:\", df[\"site\"].unique())\n"
   ]
  },
  {
   "cell_type": "code",
   "execution_count": 24,
   "id": "28778951",
   "metadata": {},
   "outputs": [],
   "source": [
    "numeric_features = [\"payload\"]\n",
    "categorical_features = [\"orbit\", \"site\"]\n",
    "\n",
    "preprocessor = ColumnTransformer(\n",
    "    transformers=[\n",
    "        (\"num\", StandardScaler(), numeric_features),\n",
    "        (\"cat\", OneHotEncoder(sparse_output=False, handle_unknown=\"ignore\"), categorical_features)\n",
    "    ]\n",
    ")\n"
   ]
  },
  {
   "cell_type": "code",
   "execution_count": 25,
   "id": "961a6024",
   "metadata": {},
   "outputs": [
    {
     "name": "stdout",
     "output_type": "stream",
     "text": [
      "Shape train: (156, 7) Shape test: (39, 7)\n"
     ]
    }
   ],
   "source": [
    "X = df.drop(\"success\", axis=1)\n",
    "y = df[\"success\"]\n",
    "\n",
    "X_train, X_test, y_train, y_test = train_test_split(\n",
    "    X, y, test_size=0.2, random_state=42, stratify=y\n",
    ")\n",
    "\n",
    "print(\"Shape train:\", X_train.shape, \"Shape test:\", X_test.shape)\n"
   ]
  },
  {
   "cell_type": "code",
   "execution_count": null,
   "id": "725f55fc",
   "metadata": {},
   "outputs": [
    {
     "name": "stdout",
     "output_type": "stream",
     "text": [
      "Accuracy en train: 0.7884615384615384\n",
      "Accuracy en test: 0.6923076923076923\n"
     ]
    }
   ],
   "source": [
    "clf = Pipeline(steps=[\n",
    "    (\"preprocessor\", preprocessor),\n",
    "    (\"classifier\", LogisticRegression(max_iter=1000, class_weight=\"balanced\"))\n",
    "])\n",
    "\n",
    "\n",
    "clf.fit(X_train, y_train)\n",
    "\n",
    "print(\"Accuracy en train:\", clf.score(X_train, y_train))\n",
    "print(\"Accuracy en test:\", clf.score(X_test, y_test))\n"
   ]
  },
  {
   "cell_type": "code",
   "execution_count": 27,
   "id": "73fb5054",
   "metadata": {},
   "outputs": [
    {
     "name": "stdout",
     "output_type": "stream",
     "text": [
      "Columnas generadas por el preprocessor:\n",
      "['num__payload' 'cat__orbit_ES-L1' 'cat__orbit_GEO' 'cat__orbit_GTO'\n",
      " 'cat__orbit_HEO' 'cat__orbit_ISS' 'cat__orbit_LEO' 'cat__orbit_MEO'\n",
      " 'cat__orbit_PO' 'cat__orbit_SO' 'cat__orbit_SSO' 'cat__orbit_Unknown'\n",
      " 'cat__orbit_VLEO' 'cat__site_CCSFS SLC 40' 'cat__site_KSC LC 39A'\n",
      " 'cat__site_VAFB SLC 4E']\n"
     ]
    }
   ],
   "source": [
    "print(\"Columnas generadas por el preprocessor:\")\n",
    "print(preprocessor.get_feature_names_out())\n"
   ]
  },
  {
   "cell_type": "code",
   "execution_count": 28,
   "id": "a7eb1c38",
   "metadata": {},
   "outputs": [
    {
     "name": "stdout",
     "output_type": "stream",
     "text": [
      "Matriz de confusión:\n",
      " [[ 4  7]\n",
      " [ 5 23]]\n"
     ]
    },
    {
     "data": {
      "image/png": "[encoded data removed]",
      "text/plain": [
       "<Figure size 640x480 with 2 Axes>"
      ]
     },
     "metadata": {},
     "output_type": "display_data"
    },
    {
     "name": "stdout",
     "output_type": "stream",
     "text": [
      "Reporte de clasificación:\n",
      "              precision    recall  f1-score   support\n",
      "\n",
      "       Falló       0.44      0.36      0.40        11\n",
      "       Éxito       0.77      0.82      0.79        28\n",
      "\n",
      "    accuracy                           0.69        39\n",
      "   macro avg       0.61      0.59      0.60        39\n",
      "weighted avg       0.68      0.69      0.68        39\n",
      "\n"
     ]
    }
   ],
   "source": [
    "from sklearn.metrics import confusion_matrix, classification_report\n",
    "import seaborn as sns\n",
    "import matplotlib.pyplot as plt\n",
    "\n",
    "# 1. Predicciones en test\n",
    "y_pred = clf.predict(X_test)\n",
    "\n",
    "# 2. Matriz de confusión\n",
    "cm = confusion_matrix(y_test, y_pred)\n",
    "print(\"Matriz de confusión:\\n\", cm)\n",
    "\n",
    "# Visualización con heatmap\n",
    "sns.heatmap(cm, annot=True, fmt=\"d\", cmap=\"Blues\",\n",
    "            xticklabels=[\"Falló\", \"Éxito\"],\n",
    "            yticklabels=[\"Falló\", \"Éxito\"])\n",
    "plt.xlabel(\"Predicción\")\n",
    "plt.ylabel(\"Real\")\n",
    "plt.show()\n",
    "\n",
    "# 3. Reporte de clasificación\n",
    "print(\"Reporte de clasificación:\")\n",
    "print(classification_report(y_test, y_pred, target_names=[\"Falló\", \"Éxito\"]))\n"
   ]
  }
 ],
 "metadata": {
  "kernelspec": {
   "display_name": "env",
   "language": "python",
   "name": "python3"
  },
  "language_info": {
   "codemirror_mode": {
    "name": "ipython",
    "version": 3
   },
   "file_extension": ".py",
   "mimetype": "text/x-python",
   "name": "python",
   "nbconvert_exporter": "python",
   "pygments_lexer": "ipython3",
   "version": "3.13.3"
  }
 },
 "nbformat": 4,
 "nbformat_minor": 5
}
